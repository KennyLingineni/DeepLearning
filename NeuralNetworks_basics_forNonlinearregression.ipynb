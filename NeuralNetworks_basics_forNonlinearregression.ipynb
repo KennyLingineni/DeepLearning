{
 "cells": [
  {
   "cell_type": "code",
   "execution_count": 48,
   "metadata": {},
   "outputs": [],
   "source": [
    "from __future__ import print_function\n",
    "import numpy as np \n",
    "import matplotlib.pyplot as plt\n",
    "import keras\n",
    "from keras.models import Sequential\n",
    "from keras.layers import Dense, Dropout\n",
    "from keras.optimizers import SGD \n"
   ]
  },
  {
   "cell_type": "markdown",
   "metadata": {},
   "source": [
    "#### 1.Generate some random data and try to fit in the data.\n",
    "#### 2. using Basic Neural Networks to fit the Non linear data \n",
    "#### 3. Check the Metrics and plot the model data"
   ]
  },
  {
   "cell_type": "code",
   "execution_count": 49,
   "metadata": {},
   "outputs": [],
   "source": [
    "def SimulData():\n",
    "\t# Simulate some data for training \n",
    "        omega = np.pi ; \n",
    "        xvar  = 0.01/3; \n",
    "        x_train = np.arange(0,1, 0.0025 ) \n",
    "        x_train = x_train + xvar * np.random.randn(x_train.size);\n",
    "        y_train  = np.sin( x_train  * omega) +  0.1 * np.random.randn(x_train.size);\n",
    "        x_train = np.reshape(x_train, (-1,1))\n",
    "        #x_train = np.concatenate( (x_train, np.square(x_train) ), axis=1);\n",
    "\n",
    "        x_test = np.arange(0,1, 0.01 ) \n",
    "        x_test = x_test + xvar * np.random.randn(x_test.size);\n",
    "        y_test  = np.sin( x_test  * omega )+  0.1 * np.random.randn(x_test.size) \n",
    "        x_test = np.reshape(x_test, (-1,1))\n",
    "        #x_test = np.concatenate( (x_test, np.square(x_test) ), axis=1);\n",
    "\n",
    "        return (x_train,y_train) , (x_test, y_test)"
   ]
  },
  {
   "cell_type": "code",
   "execution_count": 50,
   "metadata": {},
   "outputs": [],
   "source": [
    "batch_size = 10\n",
    "epochs = 100"
   ]
  },
  {
   "cell_type": "code",
   "execution_count": 51,
   "metadata": {},
   "outputs": [
    {
     "data": {
      "text/plain": [
       "((400, 1), (400,), (100, 1), (100,))"
      ]
     },
     "execution_count": 51,
     "metadata": {},
     "output_type": "execute_result"
    }
   ],
   "source": [
    "(x_train,y_train),(x_test,y_test)=SimulData()\n",
    "x_train.shape,y_train.shape,x_test.shape,y_test.shape"
   ]
  },
  {
   "cell_type": "code",
   "execution_count": 52,
   "metadata": {},
   "outputs": [
    {
     "data": {
      "text/plain": [
       "array([-0.08959212,  0.11781855, -0.03492657,  0.07826878,  0.09385776,\n",
       "        0.07150472,  0.30691973,  0.11284992,  0.25686651,  0.38431781])"
      ]
     },
     "execution_count": 52,
     "metadata": {},
     "output_type": "execute_result"
    }
   ],
   "source": [
    "y_test[0:10]"
   ]
  },
  {
   "cell_type": "code",
   "execution_count": null,
   "metadata": {},
   "outputs": [],
   "source": []
  },
  {
   "cell_type": "code",
   "execution_count": 53,
   "metadata": {
    "scrolled": true
   },
   "outputs": [
    {
     "name": "stdout",
     "output_type": "stream",
     "text": [
      "_________________________________________________________________\n",
      "Layer (type)                 Output Shape              Param #   \n",
      "=================================================================\n",
      "dense_10 (Dense)             (None, 2)                 4         \n",
      "_________________________________________________________________\n",
      "dense_11 (Dense)             (None, 2)                 6         \n",
      "_________________________________________________________________\n",
      "dense_12 (Dense)             (None, 1)                 3         \n",
      "=================================================================\n",
      "Total params: 13\n",
      "Trainable params: 13\n",
      "Non-trainable params: 0\n",
      "_________________________________________________________________\n"
     ]
    }
   ],
   "source": [
    "Model=Sequential()\n",
    "# Need to add a Dense layer with non linear activation function\n",
    "Model.add(Dense(2, input_shape=(1,))) # If no Activation function is specified by default it is linear.\n",
    "Model.add(Dense(units=2,activation=\"tanh\",input_shape=(1,))) # Can have any number of layers\n",
    "Model.add(Dense(units=1,activation=\"linear\",input_shape=(1,))) # No need to specify the input size after the first hidden layer\n",
    "Model.summary()\n",
    "\n"
   ]
  },
  {
   "cell_type": "code",
   "execution_count": 54,
   "metadata": {},
   "outputs": [],
   "source": [
    "sgd = SGD(lr=0.01, decay=1e-6, momentum=0.9, nesterov=True)\n",
    "Model.compile(optimizer=sgd,loss=\"mse\",metrics=[\"mse\"])\n"
   ]
  },
  {
   "cell_type": "code",
   "execution_count": 55,
   "metadata": {},
   "outputs": [
    {
     "name": "stdout",
     "output_type": "stream",
     "text": [
      "Train on 400 samples, validate on 100 samples\n",
      "Epoch 1/100\n",
      "400/400 [==============================] - 0s 549us/step - loss: 0.1677 - mean_squared_error: 0.1677 - val_loss: 0.1140 - val_mean_squared_error: 0.1140\n",
      "Epoch 2/100\n",
      "400/400 [==============================] - 0s 128us/step - loss: 0.1043 - mean_squared_error: 0.1043 - val_loss: 0.1105 - val_mean_squared_error: 0.1105\n",
      "Epoch 3/100\n",
      "400/400 [==============================] - 0s 117us/step - loss: 0.1020 - mean_squared_error: 0.1020 - val_loss: 0.1108 - val_mean_squared_error: 0.1108\n",
      "Epoch 4/100\n",
      "400/400 [==============================] - 0s 108us/step - loss: 0.0993 - mean_squared_error: 0.0993 - val_loss: 0.1182 - val_mean_squared_error: 0.1182\n",
      "Epoch 5/100\n",
      "400/400 [==============================] - 0s 133us/step - loss: 0.1045 - mean_squared_error: 0.1045 - val_loss: 0.1094 - val_mean_squared_error: 0.1094\n",
      "Epoch 6/100\n",
      "400/400 [==============================] - 0s 156us/step - loss: 0.1053 - mean_squared_error: 0.1053 - val_loss: 0.1085 - val_mean_squared_error: 0.1085\n",
      "Epoch 7/100\n",
      "400/400 [==============================] - 0s 133us/step - loss: 0.0992 - mean_squared_error: 0.0992 - val_loss: 0.1074 - val_mean_squared_error: 0.1074\n",
      "Epoch 8/100\n",
      "400/400 [==============================] - 0s 145us/step - loss: 0.0994 - mean_squared_error: 0.0994 - val_loss: 0.1070 - val_mean_squared_error: 0.1070\n",
      "Epoch 9/100\n",
      "400/400 [==============================] - 0s 99us/step - loss: 0.0988 - mean_squared_error: 0.0988 - val_loss: 0.1084 - val_mean_squared_error: 0.1084\n",
      "Epoch 10/100\n",
      "400/400 [==============================] - 0s 118us/step - loss: 0.0966 - mean_squared_error: 0.0966 - val_loss: 0.1039 - val_mean_squared_error: 0.1039\n",
      "Epoch 11/100\n",
      "400/400 [==============================] - 0s 124us/step - loss: 0.0957 - mean_squared_error: 0.0957 - val_loss: 0.1031 - val_mean_squared_error: 0.1031\n",
      "Epoch 12/100\n",
      "400/400 [==============================] - 0s 148us/step - loss: 0.0938 - mean_squared_error: 0.0938 - val_loss: 0.1055 - val_mean_squared_error: 0.1055\n",
      "Epoch 13/100\n",
      "400/400 [==============================] - 0s 108us/step - loss: 0.0967 - mean_squared_error: 0.0967 - val_loss: 0.1007 - val_mean_squared_error: 0.1007\n",
      "Epoch 14/100\n",
      "400/400 [==============================] - 0s 154us/step - loss: 0.0930 - mean_squared_error: 0.0930 - val_loss: 0.0999 - val_mean_squared_error: 0.0999\n",
      "Epoch 15/100\n",
      "400/400 [==============================] - 0s 126us/step - loss: 0.0936 - mean_squared_error: 0.0936 - val_loss: 0.0987 - val_mean_squared_error: 0.0987\n",
      "Epoch 16/100\n",
      "400/400 [==============================] - 0s 142us/step - loss: 0.0924 - mean_squared_error: 0.0924 - val_loss: 0.1015 - val_mean_squared_error: 0.1015\n",
      "Epoch 17/100\n",
      "400/400 [==============================] - 0s 107us/step - loss: 0.0898 - mean_squared_error: 0.0898 - val_loss: 0.0980 - val_mean_squared_error: 0.0980\n",
      "Epoch 18/100\n",
      "400/400 [==============================] - 0s 139us/step - loss: 0.0895 - mean_squared_error: 0.0895 - val_loss: 0.0956 - val_mean_squared_error: 0.0956\n",
      "Epoch 19/100\n",
      "400/400 [==============================] - 0s 174us/step - loss: 0.0872 - mean_squared_error: 0.0872 - val_loss: 0.0929 - val_mean_squared_error: 0.0929\n",
      "Epoch 20/100\n",
      "400/400 [==============================] - 0s 127us/step - loss: 0.0851 - mean_squared_error: 0.0851 - val_loss: 0.0930 - val_mean_squared_error: 0.0930\n",
      "Epoch 21/100\n",
      "400/400 [==============================] - 0s 136us/step - loss: 0.0862 - mean_squared_error: 0.0862 - val_loss: 0.0903 - val_mean_squared_error: 0.0903\n",
      "Epoch 22/100\n",
      "400/400 [==============================] - 0s 123us/step - loss: 0.0844 - mean_squared_error: 0.0844 - val_loss: 0.0939 - val_mean_squared_error: 0.0939\n",
      "Epoch 23/100\n",
      "400/400 [==============================] - 0s 115us/step - loss: 0.0843 - mean_squared_error: 0.0843 - val_loss: 0.0872 - val_mean_squared_error: 0.0872\n",
      "Epoch 24/100\n",
      "400/400 [==============================] - 0s 114us/step - loss: 0.0807 - mean_squared_error: 0.0807 - val_loss: 0.0872 - val_mean_squared_error: 0.0872\n",
      "Epoch 25/100\n",
      "400/400 [==============================] - 0s 163us/step - loss: 0.0801 - mean_squared_error: 0.0801 - val_loss: 0.0850 - val_mean_squared_error: 0.0850\n",
      "Epoch 26/100\n",
      "400/400 [==============================] - 0s 158us/step - loss: 0.0782 - mean_squared_error: 0.0782 - val_loss: 0.0838 - val_mean_squared_error: 0.0838\n",
      "Epoch 27/100\n",
      "400/400 [==============================] - 0s 182us/step - loss: 0.0782 - mean_squared_error: 0.0782 - val_loss: 0.0831 - val_mean_squared_error: 0.0831\n",
      "Epoch 28/100\n",
      "400/400 [==============================] - 0s 172us/step - loss: 0.0780 - mean_squared_error: 0.0780 - val_loss: 0.0849 - val_mean_squared_error: 0.0849\n",
      "Epoch 29/100\n",
      "400/400 [==============================] - 0s 174us/step - loss: 0.0764 - mean_squared_error: 0.0764 - val_loss: 0.0874 - val_mean_squared_error: 0.0874\n",
      "Epoch 30/100\n",
      "400/400 [==============================] - 0s 148us/step - loss: 0.0744 - mean_squared_error: 0.0744 - val_loss: 0.0795 - val_mean_squared_error: 0.0795\n",
      "Epoch 31/100\n",
      "400/400 [==============================] - 0s 136us/step - loss: 0.0720 - mean_squared_error: 0.0720 - val_loss: 0.0764 - val_mean_squared_error: 0.0764\n",
      "Epoch 32/100\n",
      "400/400 [==============================] - 0s 132us/step - loss: 0.0707 - mean_squared_error: 0.0707 - val_loss: 0.0732 - val_mean_squared_error: 0.0732\n",
      "Epoch 33/100\n",
      "400/400 [==============================] - 0s 172us/step - loss: 0.0644 - mean_squared_error: 0.0644 - val_loss: 0.0667 - val_mean_squared_error: 0.0667\n",
      "Epoch 34/100\n",
      "400/400 [==============================] - 0s 189us/step - loss: 0.0556 - mean_squared_error: 0.0556 - val_loss: 0.0532 - val_mean_squared_error: 0.0532\n",
      "Epoch 35/100\n",
      "400/400 [==============================] - 0s 161us/step - loss: 0.0418 - mean_squared_error: 0.0418 - val_loss: 0.0376 - val_mean_squared_error: 0.0376\n",
      "Epoch 36/100\n",
      "400/400 [==============================] - 0s 138us/step - loss: 0.0306 - mean_squared_error: 0.0306 - val_loss: 0.0291 - val_mean_squared_error: 0.0291\n",
      "Epoch 37/100\n",
      "400/400 [==============================] - 0s 114us/step - loss: 0.0249 - mean_squared_error: 0.0249 - val_loss: 0.0223 - val_mean_squared_error: 0.0223\n",
      "Epoch 38/100\n",
      "400/400 [==============================] - 0s 119us/step - loss: 0.0207 - mean_squared_error: 0.0207 - val_loss: 0.0202 - val_mean_squared_error: 0.0202\n",
      "Epoch 39/100\n",
      "400/400 [==============================] - 0s 100us/step - loss: 0.0182 - mean_squared_error: 0.0182 - val_loss: 0.0160 - val_mean_squared_error: 0.0160\n",
      "Epoch 40/100\n",
      "400/400 [==============================] - 0s 101us/step - loss: 0.0164 - mean_squared_error: 0.0164 - val_loss: 0.0150 - val_mean_squared_error: 0.0150\n",
      "Epoch 41/100\n",
      "400/400 [==============================] - 0s 185us/step - loss: 0.0157 - mean_squared_error: 0.0157 - val_loss: 0.0134 - val_mean_squared_error: 0.0134\n",
      "Epoch 42/100\n",
      "400/400 [==============================] - 0s 151us/step - loss: 0.0149 - mean_squared_error: 0.0149 - val_loss: 0.0134 - val_mean_squared_error: 0.0134\n",
      "Epoch 43/100\n",
      "400/400 [==============================] - 0s 143us/step - loss: 0.0144 - mean_squared_error: 0.0144 - val_loss: 0.0137 - val_mean_squared_error: 0.0137\n",
      "Epoch 44/100\n",
      "400/400 [==============================] - 0s 138us/step - loss: 0.0144 - mean_squared_error: 0.0144 - val_loss: 0.0156 - val_mean_squared_error: 0.0156\n",
      "Epoch 45/100\n",
      "400/400 [==============================] - 0s 143us/step - loss: 0.0147 - mean_squared_error: 0.0147 - val_loss: 0.0134 - val_mean_squared_error: 0.0134\n",
      "Epoch 46/100\n",
      "400/400 [==============================] - 0s 112us/step - loss: 0.0139 - mean_squared_error: 0.0139 - val_loss: 0.0127 - val_mean_squared_error: 0.0127\n",
      "Epoch 47/100\n",
      "400/400 [==============================] - 0s 109us/step - loss: 0.0139 - mean_squared_error: 0.0139 - val_loss: 0.0130 - val_mean_squared_error: 0.0130\n",
      "Epoch 48/100\n",
      "400/400 [==============================] - 0s 115us/step - loss: 0.0142 - mean_squared_error: 0.0142 - val_loss: 0.0119 - val_mean_squared_error: 0.0119\n",
      "Epoch 49/100\n",
      "400/400 [==============================] - 0s 95us/step - loss: 0.0137 - mean_squared_error: 0.0137 - val_loss: 0.0120 - val_mean_squared_error: 0.0120\n",
      "Epoch 50/100\n"
     ]
    },
    {
     "name": "stdout",
     "output_type": "stream",
     "text": [
      "400/400 [==============================] - 0s 131us/step - loss: 0.0136 - mean_squared_error: 0.0136 - val_loss: 0.0119 - val_mean_squared_error: 0.0119\n",
      "Epoch 51/100\n",
      "400/400 [==============================] - 0s 126us/step - loss: 0.0139 - mean_squared_error: 0.0139 - val_loss: 0.0126 - val_mean_squared_error: 0.0126\n",
      "Epoch 52/100\n",
      "400/400 [==============================] - 0s 128us/step - loss: 0.0139 - mean_squared_error: 0.0139 - val_loss: 0.0125 - val_mean_squared_error: 0.0125\n",
      "Epoch 53/100\n",
      "400/400 [==============================] - 0s 100us/step - loss: 0.0139 - mean_squared_error: 0.0139 - val_loss: 0.0133 - val_mean_squared_error: 0.0133\n",
      "Epoch 54/100\n",
      "400/400 [==============================] - 0s 141us/step - loss: 0.0136 - mean_squared_error: 0.0136 - val_loss: 0.0119 - val_mean_squared_error: 0.0119\n",
      "Epoch 55/100\n",
      "400/400 [==============================] - 0s 196us/step - loss: 0.0134 - mean_squared_error: 0.0134 - val_loss: 0.0118 - val_mean_squared_error: 0.0118\n",
      "Epoch 56/100\n",
      "400/400 [==============================] - 0s 184us/step - loss: 0.0133 - mean_squared_error: 0.0133 - val_loss: 0.0122 - val_mean_squared_error: 0.0122\n",
      "Epoch 57/100\n",
      "400/400 [==============================] - 0s 109us/step - loss: 0.0131 - mean_squared_error: 0.0131 - val_loss: 0.0117 - val_mean_squared_error: 0.0117\n",
      "Epoch 58/100\n",
      "400/400 [==============================] - 0s 116us/step - loss: 0.0131 - mean_squared_error: 0.0131 - val_loss: 0.0116 - val_mean_squared_error: 0.0116\n",
      "Epoch 59/100\n",
      "400/400 [==============================] - 0s 89us/step - loss: 0.0135 - mean_squared_error: 0.0135 - val_loss: 0.0114 - val_mean_squared_error: 0.0114\n",
      "Epoch 60/100\n",
      "400/400 [==============================] - 0s 115us/step - loss: 0.0127 - mean_squared_error: 0.0127 - val_loss: 0.0127 - val_mean_squared_error: 0.0127\n",
      "Epoch 61/100\n",
      "400/400 [==============================] - 0s 92us/step - loss: 0.0137 - mean_squared_error: 0.0137 - val_loss: 0.0120 - val_mean_squared_error: 0.0120\n",
      "Epoch 62/100\n",
      "400/400 [==============================] - 0s 100us/step - loss: 0.0136 - mean_squared_error: 0.0136 - val_loss: 0.0113 - val_mean_squared_error: 0.0113\n",
      "Epoch 63/100\n",
      "400/400 [==============================] - 0s 122us/step - loss: 0.0129 - mean_squared_error: 0.0129 - val_loss: 0.0115 - val_mean_squared_error: 0.0115\n",
      "Epoch 64/100\n",
      "400/400 [==============================] - 0s 106us/step - loss: 0.0131 - mean_squared_error: 0.0131 - val_loss: 0.0113 - val_mean_squared_error: 0.0113\n",
      "Epoch 65/100\n",
      "400/400 [==============================] - 0s 115us/step - loss: 0.0128 - mean_squared_error: 0.0128 - val_loss: 0.0124 - val_mean_squared_error: 0.0124\n",
      "Epoch 66/100\n",
      "400/400 [==============================] - 0s 101us/step - loss: 0.0133 - mean_squared_error: 0.0133 - val_loss: 0.0118 - val_mean_squared_error: 0.0118\n",
      "Epoch 67/100\n",
      "400/400 [==============================] - 0s 155us/step - loss: 0.0129 - mean_squared_error: 0.0129 - val_loss: 0.0111 - val_mean_squared_error: 0.0111\n",
      "Epoch 68/100\n",
      "400/400 [==============================] - 0s 188us/step - loss: 0.0126 - mean_squared_error: 0.0126 - val_loss: 0.0116 - val_mean_squared_error: 0.0116\n",
      "Epoch 69/100\n",
      "400/400 [==============================] - 0s 207us/step - loss: 0.0130 - mean_squared_error: 0.0130 - val_loss: 0.0115 - val_mean_squared_error: 0.0115\n",
      "Epoch 70/100\n",
      "400/400 [==============================] - 0s 187us/step - loss: 0.0127 - mean_squared_error: 0.0127 - val_loss: 0.0117 - val_mean_squared_error: 0.0117\n",
      "Epoch 71/100\n",
      "400/400 [==============================] - 0s 98us/step - loss: 0.0125 - mean_squared_error: 0.0125 - val_loss: 0.0111 - val_mean_squared_error: 0.0111\n",
      "Epoch 72/100\n",
      "400/400 [==============================] - 0s 128us/step - loss: 0.0128 - mean_squared_error: 0.0128 - val_loss: 0.0112 - val_mean_squared_error: 0.0112\n",
      "Epoch 73/100\n",
      "400/400 [==============================] - 0s 103us/step - loss: 0.0125 - mean_squared_error: 0.0125 - val_loss: 0.0115 - val_mean_squared_error: 0.0115\n",
      "Epoch 74/100\n",
      "400/400 [==============================] - 0s 122us/step - loss: 0.0125 - mean_squared_error: 0.0125 - val_loss: 0.0116 - val_mean_squared_error: 0.0116\n",
      "Epoch 75/100\n",
      "400/400 [==============================] - 0s 96us/step - loss: 0.0128 - mean_squared_error: 0.0128 - val_loss: 0.0112 - val_mean_squared_error: 0.0112\n",
      "Epoch 76/100\n",
      "400/400 [==============================] - 0s 120us/step - loss: 0.0125 - mean_squared_error: 0.0125 - val_loss: 0.0116 - val_mean_squared_error: 0.0116\n",
      "Epoch 77/100\n",
      "400/400 [==============================] - 0s 126us/step - loss: 0.0127 - mean_squared_error: 0.0127 - val_loss: 0.0112 - val_mean_squared_error: 0.0112\n",
      "Epoch 78/100\n",
      "400/400 [==============================] - 0s 113us/step - loss: 0.0127 - mean_squared_error: 0.0127 - val_loss: 0.0140 - val_mean_squared_error: 0.0140\n",
      "Epoch 79/100\n",
      "400/400 [==============================] - 0s 119us/step - loss: 0.0127 - mean_squared_error: 0.0127 - val_loss: 0.0109 - val_mean_squared_error: 0.0109\n",
      "Epoch 80/100\n",
      "400/400 [==============================] - 0s 101us/step - loss: 0.0125 - mean_squared_error: 0.0125 - val_loss: 0.0107 - val_mean_squared_error: 0.0107\n",
      "Epoch 81/100\n",
      "400/400 [==============================] - 0s 111us/step - loss: 0.0124 - mean_squared_error: 0.0124 - val_loss: 0.0114 - val_mean_squared_error: 0.0114\n",
      "Epoch 82/100\n",
      "400/400 [==============================] - 0s 104us/step - loss: 0.0128 - mean_squared_error: 0.0128 - val_loss: 0.0106 - val_mean_squared_error: 0.0106\n",
      "Epoch 83/100\n",
      "400/400 [==============================] - 0s 103us/step - loss: 0.0126 - mean_squared_error: 0.0126 - val_loss: 0.0108 - val_mean_squared_error: 0.0108\n",
      "Epoch 84/100\n",
      "400/400 [==============================] - 0s 105us/step - loss: 0.0126 - mean_squared_error: 0.0126 - val_loss: 0.0126 - val_mean_squared_error: 0.0126\n",
      "Epoch 85/100\n",
      "400/400 [==============================] - 0s 103us/step - loss: 0.0126 - mean_squared_error: 0.0126 - val_loss: 0.0107 - val_mean_squared_error: 0.0107\n",
      "Epoch 86/100\n",
      "400/400 [==============================] - 0s 104us/step - loss: 0.0126 - mean_squared_error: 0.0126 - val_loss: 0.0107 - val_mean_squared_error: 0.0107\n",
      "Epoch 87/100\n",
      "400/400 [==============================] - 0s 109us/step - loss: 0.0126 - mean_squared_error: 0.0126 - val_loss: 0.0106 - val_mean_squared_error: 0.0106\n",
      "Epoch 88/100\n",
      "400/400 [==============================] - 0s 109us/step - loss: 0.0125 - mean_squared_error: 0.0125 - val_loss: 0.0106 - val_mean_squared_error: 0.0106\n",
      "Epoch 89/100\n",
      "400/400 [==============================] - 0s 125us/step - loss: 0.0123 - mean_squared_error: 0.0123 - val_loss: 0.0116 - val_mean_squared_error: 0.0116\n",
      "Epoch 90/100\n",
      "400/400 [==============================] - 0s 94us/step - loss: 0.0120 - mean_squared_error: 0.0120 - val_loss: 0.0121 - val_mean_squared_error: 0.0121\n",
      "Epoch 91/100\n",
      "400/400 [==============================] - 0s 113us/step - loss: 0.0123 - mean_squared_error: 0.0123 - val_loss: 0.0114 - val_mean_squared_error: 0.0114\n",
      "Epoch 92/100\n",
      "400/400 [==============================] - 0s 116us/step - loss: 0.0124 - mean_squared_error: 0.0124 - val_loss: 0.0110 - val_mean_squared_error: 0.0110\n",
      "Epoch 93/100\n",
      "400/400 [==============================] - 0s 108us/step - loss: 0.0121 - mean_squared_error: 0.0121 - val_loss: 0.0114 - val_mean_squared_error: 0.0114\n",
      "Epoch 94/100\n",
      "400/400 [==============================] - 0s 155us/step - loss: 0.0122 - mean_squared_error: 0.0122 - val_loss: 0.0107 - val_mean_squared_error: 0.0107\n",
      "Epoch 95/100\n",
      "400/400 [==============================] - 0s 124us/step - loss: 0.0123 - mean_squared_error: 0.0123 - val_loss: 0.0110 - val_mean_squared_error: 0.0110\n",
      "Epoch 96/100\n",
      "400/400 [==============================] - 0s 97us/step - loss: 0.0122 - mean_squared_error: 0.0122 - val_loss: 0.0107 - val_mean_squared_error: 0.0107\n",
      "Epoch 97/100\n",
      "400/400 [==============================] - 0s 128us/step - loss: 0.0121 - mean_squared_error: 0.0121 - val_loss: 0.0106 - val_mean_squared_error: 0.0106\n",
      "Epoch 98/100\n",
      "400/400 [==============================] - 0s 112us/step - loss: 0.0122 - mean_squared_error: 0.0122 - val_loss: 0.0108 - val_mean_squared_error: 0.0108\n",
      "Epoch 99/100\n"
     ]
    },
    {
     "name": "stdout",
     "output_type": "stream",
     "text": [
      "400/400 [==============================] - 0s 102us/step - loss: 0.0123 - mean_squared_error: 0.0123 - val_loss: 0.0110 - val_mean_squared_error: 0.0110\n",
      "Epoch 100/100\n",
      "400/400 [==============================] - 0s 116us/step - loss: 0.0121 - mean_squared_error: 0.0121 - val_loss: 0.0104 - val_mean_squared_error: 0.0104\n"
     ]
    },
    {
     "data": {
      "text/plain": [
       "<keras.callbacks.History at 0x7fbcd8b34898>"
      ]
     },
     "execution_count": 55,
     "metadata": {},
     "output_type": "execute_result"
    }
   ],
   "source": [
    "Model.fit(x_train,y_train,batch_size=10,epochs=100,verbose=1,\n",
    "                    validation_data=(x_test, y_test))"
   ]
  },
  {
   "cell_type": "code",
   "execution_count": 56,
   "metadata": {},
   "outputs": [
    {
     "data": {
      "text/plain": [
       "array([[0.06515336],\n",
       "       [0.09636331],\n",
       "       [0.11009586],\n",
       "       [0.13651848],\n",
       "       [0.16054225]], dtype=float32)"
      ]
     },
     "execution_count": 56,
     "metadata": {},
     "output_type": "execute_result"
    }
   ],
   "source": [
    "y_pred=Model.predict(x_test)\n",
    "y_pred[:5]"
   ]
  },
  {
   "cell_type": "code",
   "execution_count": 57,
   "metadata": {},
   "outputs": [
    {
     "name": "stdout",
     "output_type": "stream",
     "text": [
      "100/100 [==============================] - 0s 50us/step\n",
      "Loss & Metrics [0.010413844585418702, 0.010413844585418702]\n",
      "100/100 [==============================] - 0s 53us/step\n",
      "Test loss:mse (selected in model compile 0.010413844585418702\n",
      "Test Metrics:mse (selected in model compile  0.010413844585418702\n",
      "Type of score is <class 'list'>\n",
      "_________________________________________________________________\n",
      "Layer (type)                 Output Shape              Param #   \n",
      "=================================================================\n",
      "dense_10 (Dense)             (None, 2)                 4         \n",
      "_________________________________________________________________\n",
      "dense_11 (Dense)             (None, 2)                 6         \n",
      "_________________________________________________________________\n",
      "dense_12 (Dense)             (None, 1)                 3         \n",
      "=================================================================\n",
      "Total params: 13\n",
      "Trainable params: 13\n",
      "Non-trainable params: 0\n",
      "_________________________________________________________________\n",
      "None\n"
     ]
    }
   ],
   "source": [
    "score=Model.evaluate(x_test,y_test) # Returns the loss value & metrics values for the model in test mode.\n",
    "print('Loss & Metrics', score)\n",
    "score = Model.evaluate(x_test, y_test)\n",
    "print('Test loss:mse (selected in model compile', score[0])\n",
    "print('Test Metrics:mse (selected in model compile ', score[1])\n",
    "print('Type of score is',type(score))\n",
    "print(Model.summary())"
   ]
  },
  {
   "cell_type": "code",
   "execution_count": 58,
   "metadata": {},
   "outputs": [
    {
     "name": "stdout",
     "output_type": "stream",
     "text": [
      "[0.010413844585418702, 0.010413844585418702]\n"
     ]
    }
   ],
   "source": [
    "print(score)"
   ]
  },
  {
   "cell_type": "code",
   "execution_count": 59,
   "metadata": {},
   "outputs": [
    {
     "data": {
      "text/plain": [
       "['loss', 'mean_squared_error']"
      ]
     },
     "execution_count": 59,
     "metadata": {},
     "output_type": "execute_result"
    }
   ],
   "source": [
    "Model.metrics_names"
   ]
  },
  {
   "cell_type": "code",
   "execution_count": 60,
   "metadata": {},
   "outputs": [
    {
     "data": {
      "image/png": "[encoded data removed]",
      "text/plain": [
       "<Figure size 432x288 with 1 Axes>"
      ]
     },
     "metadata": {},
     "output_type": "display_data"
    }
   ],
   "source": [
    "tst = plt.plot(x_test,y_test,'r.',label='test'); \n",
    "pred = plt.plot(x_test,y_pred,'m',label='pred');\n",
    "tr = plt.plot(x_train,y_train,'b.',label='train');\n",
    "\n",
    "plt.legend()\n",
    "plt.show()"
   ]
  },
  {
   "cell_type": "code",
   "execution_count": 63,
   "metadata": {},
   "outputs": [
    {
     "data": {
      "image/png": "[encoded data removed]",
      "text/plain": [
       "<Figure size 432x288 with 1 Axes>"
      ]
     },
     "metadata": {},
     "output_type": "display_data"
    }
   ],
   "source": [
    "test= plt.plot(y_test,'r.',label='test'); \n",
    "pred=plt.plot(y_pred,'b.',label='pred')\n",
    "plt.legend()\n",
    "plt.show()"
   ]
  },
  {
   "cell_type": "code",
   "execution_count": null,
   "metadata": {},
   "outputs": [],
   "source": [
    "\n"
   ]
  }
 ],
 "metadata": {
  "kernelspec": {
   "display_name": "Python 3",
   "language": "python",
   "name": "python3"
  },
  "language_info": {
   "codemirror_mode": {
    "name": "ipython",
    "version": 3
   },
   "file_extension": ".py",
   "mimetype": "text/x-python",
   "name": "python",
   "nbconvert_exporter": "python",
   "pygments_lexer": "ipython3",
   "version": "3.6.3"
  }
 },
 "nbformat": 4,
 "nbformat_minor": 2
}
